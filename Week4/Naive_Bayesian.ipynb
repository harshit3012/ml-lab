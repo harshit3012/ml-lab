{
  "nbformat": 4,
  "nbformat_minor": 0,
  "metadata": {
    "colab": {
      "name": "Naive Bayesian.ipynb",
      "provenance": [],
      "toc_visible": true
    },
    "kernelspec": {
      "name": "python3",
      "display_name": "Python 3",
      "language": "python"
    },
    "language_info": {
      "name": "python",
      "version": "3.8.5-final"
    }
  },
  "cells": [
    {
      "cell_type": "markdown",
      "metadata": {
        "id": "jWw-qtV4jRvl"
      },
      "source": [
        "# Naive Bayesian Classifier"
      ]
    },
    {
      "cell_type": "code",
      "metadata": {
        "id": "g0b8Slx0jWuV"
      },
      "source": [
        "import pandas as pd\n",
        "from sklearn.model_selection import train_test_split\n",
        "from sklearn.naive_bayes import GaussianNB\n",
        "from sklearn import metrics"
      ],
      "execution_count": 1,
      "outputs": []
    },
    {
      "cell_type": "code",
      "metadata": {
        "id": "wCrDh2dojfCA"
      },
      "source": [
        "df = pd.read_csv(\"./pima_indian.csv\")\n",
        "feature_col_names = ['num_preg', 'glucose_conc', 'diastolic_bp', 'thickness', 'insulin', 'bmi', 'diab_pred', 'age']\n",
        "predicted_class_names = ['diabetes']"
      ],
      "execution_count": 4,
      "outputs": []
    },
    {
      "cell_type": "code",
      "metadata": {
        "id": "dR9UtFy-kFVe"
      },
      "source": [
        "X = df[feature_col_names].values # these are factors for the prediction\n",
        "y = df[predicted_class_names].values # this is what we want to predict\n",
        "#splitting the dataset into train and test data\n",
        "xtrain,xtest,ytrain,ytest=train_test_split(X,y,test_size=0.20)"
      ],
      "execution_count": 15,
      "outputs": []
    },
    {
      "cell_type": "code",
      "metadata": {
        "colab": {
          "base_uri": "https://localhost:8080/"
        },
        "id": "Xg6WGSE1kKMz",
        "outputId": "3754ef78-8d8a-496e-c9a9-062cd3aa40d2"
      },
      "source": [
        "print ('\\n the total number of Training Data :',ytrain.shape)\n",
        "print ('\\n the total number of Test Data :',ytest.shape)"
      ],
      "execution_count": 16,
      "outputs": [
        {
          "output_type": "stream",
          "name": "stdout",
          "text": [
            "\n the total number of Training Data : (614, 1)\n\n the total number of Test Data : (154, 1)\n"
          ]
        }
      ]
    },
    {
      "cell_type": "code",
      "metadata": {
        "colab": {
          "base_uri": "https://localhost:8080/"
        },
        "id": "P4glBEXLkNDG",
        "outputId": "93dc138f-4870-482f-a91f-f3627d18626a"
      },
      "source": [
        "# Training Naive Bayes (NB) classifier on training data.\n",
        "clf = GaussianNB().fit(xtrain,ytrain.ravel())\n",
        "predicted = clf.predict(xtest)\n",
        "predictTestData= clf.predict([[6,148,72,35,0,33.6,0.627,50]])\n",
        "\n",
        "#printing Confusion matrix, accuracy, Precision and Recall\n",
        "print('\\n Confusion matrix')\n",
        "print(metrics.confusion_matrix(ytest,predicted))\n",
        "print('\\n Accuracy of the classifier is',metrics.accuracy_score(ytest,predicted))\n",
        "print('\\n The value of Precision', metrics.precision_score(ytest,predicted))\n",
        "print('\\n The value of Recall', metrics.recall_score(ytest,predicted))\n",
        "print(\"Predicted Value for individual Test Data:\", predictTestData)\n"
      ],
      "execution_count": 17,
      "outputs": [
        {
          "output_type": "stream",
          "name": "stdout",
          "text": [
            "\n Confusion matrix\n[[79 16]\n [21 38]]\n\n Accuracy of the classifier is 0.7597402597402597\n\n The value of Precision 0.7037037037037037\n\n The value of Recall 0.6440677966101694\nPredicted Value for individual Test Data: [1]\n"
          ]
        }
      ]
    },
    {
      "cell_type": "code",
      "metadata": {
        "id": "LIO64_cukRzD"
      },
      "source": [],
      "execution_count": null,
      "outputs": []
    }
  ]
}
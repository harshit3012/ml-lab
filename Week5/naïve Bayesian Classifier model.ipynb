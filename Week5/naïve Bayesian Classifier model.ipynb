{
 "cells": [
  {
   "cell_type": "code",
   "execution_count": 1,
   "metadata": {},
   "outputs": [],
   "source": [
    "import pandas as pd"
   ]
  },
  {
   "cell_type": "code",
   "execution_count": 2,
   "metadata": {},
   "outputs": [
    {
     "output_type": "stream",
     "name": "stdout",
     "text": [
      "The dimensions of the dataset (18, 2)\n0                       Laptops are amazing\n1                  This is an amazing place\n2        I feel very good about these beers\n3                              Life is hard\n4                            This is a joke\n5                      What an awesome view\n6             I do not like this restaurant\n7                  I am tired of this stuff\n8                    I can't deal with this\n9                      I love this sandwich\n10                     He is my sworn enemy\n11                 This is an awesome place\n12    I do not like the taste of this juice\n13                I love to producing music\n14                     What a great holiday\n15           That is a bad locality to stay\n16           We will have good fun tomorrow\n17         I went to my enemy's house today\nName: message, dtype: object\n0     0\n1     1\n2     1\n3     1\n4     0\n5     1\n6     0\n7     0\n8     0\n9     1\n10    0\n11    1\n12    0\n13    1\n14    1\n15    0\n16    1\n17    0\nName: labelnum, dtype: int64\n"
     ]
    }
   ],
   "source": [
    "msg=pd.read_csv('naivetext.csv',names=['message','label'])\n",
    "\n",
    "print('The dimensions of the dataset',msg.shape)\n",
    "\n",
    "msg['labelnum']=msg.label.map({'pos':1,'neg':0})\n",
    "X=msg.message\n",
    "y=msg.labelnum\n",
    "print(X)\n",
    "print(y)"
   ]
  },
  {
   "cell_type": "code",
   "execution_count": 3,
   "metadata": {},
   "outputs": [
    {
     "output_type": "stream",
     "name": "stdout",
     "text": [
      "\n the total number of Training Data : (13,)\n\n the total number of Test Data : (5,)\n"
     ]
    }
   ],
   "source": [
    "#splitting the dataset into train and test data\n",
    "from sklearn.model_selection import train_test_split\n",
    "xtrain,xtest,ytrain,ytest=train_test_split(X,y)\n",
    "\n",
    "print ('\\n the total number of Training Data :',ytrain.shape)\n",
    "print ('\\n the total number of Test Data :',ytest.shape)"
   ]
  },
  {
   "cell_type": "code",
   "execution_count": 4,
   "metadata": {},
   "outputs": [
    {
     "output_type": "stream",
     "name": "stdout",
     "text": [
      "\n The words or Tokens in the text documents \n\n['am', 'amazing', 'an', 'are', 'awesome', 'can', 'deal', 'do', 'enemy', 'fun', 'good', 'great', 'hard', 'have', 'he', 'holiday', 'house', 'is', 'joke', 'juice', 'laptops', 'life', 'like', 'love', 'music', 'my', 'not', 'of', 'place', 'producing', 'sandwich', 'stuff', 'sworn', 'taste', 'the', 'this', 'tired', 'to', 'today', 'tomorrow', 'we', 'went', 'what', 'will', 'with']\n"
     ]
    }
   ],
   "source": [
    "#output of the words or Tokens in the text documents\n",
    "from sklearn.feature_extraction.text import CountVectorizer\n",
    "count_vect = CountVectorizer()\n",
    "xtrain_dtm = count_vect.fit_transform(xtrain)\n",
    "xtest_dtm=count_vect.transform(xtest)\n",
    "print('\\n The words or Tokens in the text documents \\n')\n",
    "print(count_vect.get_feature_names())\n",
    "\n",
    "df=pd.DataFrame(xtrain_dtm.toarray(),columns=count_vect.get_feature_names())"
   ]
  },
  {
   "cell_type": "code",
   "execution_count": 5,
   "metadata": {},
   "outputs": [],
   "source": [
    "# Training Naive Bayes (NB) classifier on training data.\n",
    "from sklearn.naive_bayes import MultinomialNB\n",
    "clf = MultinomialNB().fit(xtrain_dtm,ytrain)\n",
    "predicted = clf.predict(xtest_dtm)"
   ]
  },
  {
   "cell_type": "code",
   "execution_count": 6,
   "metadata": {},
   "outputs": [
    {
     "output_type": "stream",
     "name": "stdout",
     "text": [
      "\n Accuracy of the classifier is 0.8\n\n Confusion matrix\n[[1 1]\n [0 3]]\n\n The value of Precision 0.75\n\n The value of Recall 1.0\n"
     ]
    }
   ],
   "source": [
    "#printing accuracy, Confusion matrix, Precision and Recall\n",
    "from sklearn import metrics\n",
    "print('\\n Accuracy of the classifier is',metrics.accuracy_score(ytest,predicted))\n",
    "\n",
    "print('\\n Confusion matrix')\n",
    "print(metrics.confusion_matrix(ytest,predicted))\n",
    "\n",
    "print('\\n The value of Precision', metrics.precision_score(ytest,predicted))\n",
    "\n",
    "print('\\n The value of Recall', metrics.recall_score(ytest,predicted))"
   ]
  }
 ],
 "metadata": {
  "kernelspec": {
   "display_name": "Python 3",
   "language": "python",
   "name": "python3"
  },
  "language_info": {
   "codemirror_mode": {
    "name": "ipython",
    "version": 3
   },
   "file_extension": ".py",
   "mimetype": "text/x-python",
   "name": "python",
   "nbconvert_exporter": "python",
   "pygments_lexer": "ipython3",
   "version": "3.8.5"
  }
 },
 "nbformat": 4,
 "nbformat_minor": 4
}